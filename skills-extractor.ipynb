{
 "cells": [
  {
   "cell_type": "code",
   "execution_count": 2,
   "metadata": {},
   "outputs": [],
   "source": [
    "from openai import OpenAI\n",
    "from dotenv import load_dotenv\n",
    "import os"
   ]
  },
  {
   "cell_type": "code",
   "execution_count": 3,
   "metadata": {},
   "outputs": [],
   "source": [
    "load_dotenv()\n",
    "client = OpenAI(api_key=os.getenv(\"OPENAI_SECRET\"))"
   ]
  },
  {
   "cell_type": "code",
   "execution_count": 5,
   "metadata": {},
   "outputs": [],
   "source": [
    "job_description = \"\"\"\n",
    "Role Description:\n",
    "We are seeking talented & motivated engineers to join our team! In this role, you'll delve into identity and access management, \n",
    "gaining practical experience within specific verticals such as Transportation, Food, and more. \n",
    "Your focus will be on analyzing, enhancing and safeguarding identity systems.\n",
    "Day-to-Day Activities:\n",
    "You use technology to solve well defined problems, building individual components or features based on well defined tasks. \n",
    "You understand the requirements of your projects and use that understanding in your designs. \n",
    "You understand your codebase and systems, ensuring reliability through design reviews, monitoring, alerting, and applying OE (Operational Excellence) standards. \n",
    "You take ownership of your code and ensure it's readable, maintainable, and well-tested. \n",
    "You understand and apply the appropriate data structures and algorithms. \n",
    "You give clear, actionable feedback during code reviews and respond well to feedback from others.\n",
    "You respond promptly to issues and keep the working team constantly updated. \n",
    "Your tasks are delivered on time and with high quality, and you're able to explain your solutions to other technical stakeholders through both verbal and written communication.\n",
    "Requirements:\n",
    "- Experience with backend in Golang (preferred), Java, C# or any similar programming languages\n",
    "- Strong computer science fundamentals including data structures and algorithms\n",
    "- Strong communication skill both written and verbal\n",
    "Extra:\n",
    "- Experience in the IAM domain\n",
    "- Experience with distributed systems in a cloud based environment\n",
    "- Hunger to learn fast with a steep learning curve\"\"\""
   ]
  },
  {
   "cell_type": "code",
   "execution_count": 16,
   "metadata": {},
   "outputs": [],
   "source": [
    "def extract_skills(prompt):\n",
    "    response = client.chat.completions.create(\n",
    "        model=\"gpt-3.5-turbo\",\n",
    "        messages=[{\n",
    "            \"role\": \"system\",\n",
    "            \"content\": \"\"\"Based on the job description given, you will extract the soft skills and programming skills required \n",
    "            for the job position in json array of strings using the following steps:\n",
    "            1. Extract the soft skills required for the job in json array of strings\n",
    "            2. Extract the programming skills required for the job in json array of strings\"\"\"\n",
    "        }, {\n",
    "            \"role\": \"user\",\n",
    "            \"content\": f\"{job_description}\"\n",
    "        },\n",
    "        {\n",
    "            \"role\": \"assistant\",\n",
    "            \"content\": \"\"\"[\"Critical Thinking\", \"Communication\", \"Problem Solving\"]\\n[\"Golang\", \"Java\", \"C#\"]\"\"\"\n",
    "        }, {\n",
    "            \"role\": \"user\",\n",
    "            \"content\": f\"{prompt}\"\n",
    "        }],\n",
    "        max_tokens=100,\n",
    "        temperature=0.8\n",
    "    )\n",
    "\n",
    "    return response"
   ]
  },
  {
   "cell_type": "code",
   "execution_count": 17,
   "metadata": {},
   "outputs": [],
   "source": [
    "prompt = \"\"\"Role Description:\n",
    "                As a Senior iOS Engineer in the Safety team, you will be responsible for designing and implementing Safety features in our iOS application. You will work on various aspects of Grab's Safety features which revolves around a wide variety of device hardwares and requires a deep understanding of not only application programming but also system performance.\n",
    "\n",
    "                This is a regional role where you'll have the opportunity to collaborate with a diverse cross-functional team of mobile and backend engineers, data scientists, product managers, and designers to deliver code behind apps that impact millions of lives in Southeast Asia.\n",
    "\n",
    "                Day to Day Activities:\n",
    "                - Take charge of executing and monitoring projects while collaborating with Product, Design, Mobile, and Backend teams to continuously improve and extend new consumer and/or partner-facing products, platforms, and features.\n",
    "                - Actively participate in technical and product review meetings, enhancing Grab platform's efficiency through the creation and optimization of reusable iOS software components.\n",
    "                - Drive continuous improvement on live apps by reviewing performance on both, the code and experience level, ensuring high-quality app releases.\n",
    "                - Foster cross-team collaborations to share knowledge, review each other's code, and assist in building an environment conducive to learning and growing.\n",
    "                - Embrace and promote cutting-edge mobile methodologies and technologies, and invest in the mentorship of Junior Engineers for their career development.\n",
    "\n",
    "                Requirements:\n",
    "                - Expert in iOS programming paradigms including extensive use of Swift and/or RxSwift.\n",
    "                - Demonstrate working knowledge of architectural approaches, design, caching, data storage, and security.\n",
    "                - Showcase a strong background in UI/UX design, ensuring intuitive functionality and pixel-perfect interfaces.\n",
    "                - Possess hands-on experience with unit testing, UI test frameworks, and continuous integration pipelines for mobile apps build systems.\n",
    "                - Exhibit strong Computer Science fundamentals, proven 'Your Problem Is My Problem' (YPIMP) teamwork attitude, and a relevant academic background i.e., Degree in Computer Science, Software Engineering, IT, or related fields.\n",
    "\n",
    "                Extra:\n",
    "                - Experience with iOS application performance tuning and optimisation.\n",
    "                - Experience with Machine Learning Model deployment and inference on-device.\"\"\"\n",
    "\n",
    "response = extract_skills(prompt)"
   ]
  },
  {
   "cell_type": "code",
   "execution_count": 18,
   "metadata": {},
   "outputs": [
    {
     "name": "stdout",
     "output_type": "stream",
     "text": [
      "[\"Collaboration\", \"Problem Solving\", \"Communication\", \"Mentorship\"]\n",
      "[\"Swift\", \"RxSwift\", \"UI/UX Design\", \"Unit Testing\", \"CI/CD\"]\n"
     ]
    }
   ],
   "source": [
    "print(response.choices[0].message.content)"
   ]
  },
  {
   "cell_type": "code",
   "execution_count": null,
   "metadata": {},
   "outputs": [],
   "source": []
  }
 ],
 "metadata": {
  "kernelspec": {
   "display_name": "venv",
   "language": "python",
   "name": "python3"
  },
  "language_info": {
   "codemirror_mode": {
    "name": "ipython",
    "version": 3
   },
   "file_extension": ".py",
   "mimetype": "text/x-python",
   "name": "python",
   "nbconvert_exporter": "python",
   "pygments_lexer": "ipython3",
   "version": "3.11.3"
  }
 },
 "nbformat": 4,
 "nbformat_minor": 2
}
