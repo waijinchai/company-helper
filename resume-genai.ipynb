{
 "cells": [
  {
   "cell_type": "code",
   "execution_count": 11,
   "metadata": {},
   "outputs": [],
   "source": [
    "from openai import OpenAI\n",
    "from dotenv import load_dotenv\n",
    "import os\n",
    "import fitz"
   ]
  },
  {
   "cell_type": "code",
   "execution_count": 12,
   "metadata": {},
   "outputs": [
    {
     "data": {
      "text/plain": [
       "True"
      ]
     },
     "execution_count": 12,
     "metadata": {},
     "output_type": "execute_result"
    }
   ],
   "source": [
    "load_dotenv()"
   ]
  },
  {
   "cell_type": "code",
   "execution_count": 13,
   "metadata": {},
   "outputs": [],
   "source": [
    "client = OpenAI(api_key=os.getenv(\"OPENAI_SECRET\"))"
   ]
  },
  {
   "cell_type": "code",
   "execution_count": 14,
   "metadata": {},
   "outputs": [],
   "source": [
    "prompt=\"what is 2 + 2?\""
   ]
  },
  {
   "cell_type": "code",
   "execution_count": 15,
   "metadata": {},
   "outputs": [
    {
     "name": "stdout",
     "output_type": "stream",
     "text": [
      "2 + 2 equals 4. This is a basic addition problem where you are combining two numbers (2) together to find the total. When you add 2 and 2 together, you get 4.\n"
     ]
    }
   ],
   "source": [
    "response = client.chat.completions.create(\n",
    "    model=\"gpt-3.5-turbo\",\n",
    "    messages=[{\n",
    "        \"role\": \"system\",\n",
    "        \"content\": \"\"\"You're a mathematician that solves maths questions and provides clear explanation\"\"\"\n",
    "    }, {\n",
    "        \"role\": \"user\",\n",
    "        \"content\": f\"{prompt}\"\n",
    "    }],\n",
    "    max_tokens=100,\n",
    "    temperature=0.8\n",
    ")\n",
    "\n",
    "print(response.choices[0].message.content)"
   ]
  },
  {
   "cell_type": "code",
   "execution_count": 16,
   "metadata": {},
   "outputs": [],
   "source": [
    "def extract_text_from_pdf():\n",
    "    doc = fitz.open(\"Chai Wai Jin Resume.pdf\")\n",
    "    text = \"\"\n",
    "    for page in doc:\n",
    "        text += page.get_text()\n",
    "    \n",
    "    return text"
   ]
  },
  {
   "cell_type": "code",
   "execution_count": 17,
   "metadata": {},
   "outputs": [],
   "source": [
    "def summarize_resume(text, client):\n",
    "    summary_response = client.chat.completions.create(\n",
    "        model=\"gpt-3.5-turbo\",\n",
    "        messages=[{\n",
    "            \"role\": \"system\",\n",
    "            \"content\": \"\"\"You're a bot that is a HR for a tech company that is recruiting candidates for a Software Engineering position.\n",
    "            You will look at the candidate's resume and give a summary of the candidate in 100 words.\"\"\"\n",
    "        }, {\n",
    "            \"role\": \"user\",\n",
    "            \"content\": f\"{text}\"\n",
    "        }],\n",
    "        max_tokens=400,\n",
    "        temperature=0.8\n",
    "    )\n",
    "\n",
    "    return summary_response"
   ]
  },
  {
   "cell_type": "code",
   "execution_count": 18,
   "metadata": {},
   "outputs": [
    {
     "ename": "FileNotFoundError",
     "evalue": "no such file: 'Chai Wai Jin Resume.pdf'",
     "output_type": "error",
     "traceback": [
      "\u001b[1;31m---------------------------------------------------------------------------\u001b[0m",
      "\u001b[1;31mFileNotFoundError\u001b[0m                         Traceback (most recent call last)",
      "\u001b[1;32m~\\AppData\\Local\\Temp\\ipykernel_19592\\1635670988.py\u001b[0m in \u001b[0;36m?\u001b[1;34m()\u001b[0m\n\u001b[1;32m----> 1\u001b[1;33m \u001b[0mtext\u001b[0m \u001b[1;33m=\u001b[0m \u001b[0mextract_text_from_pdf\u001b[0m\u001b[1;33m(\u001b[0m\u001b[1;33m)\u001b[0m\u001b[1;33m\u001b[0m\u001b[1;33m\u001b[0m\u001b[0m\n\u001b[0m\u001b[0;32m      2\u001b[0m \u001b[0msummary_response\u001b[0m \u001b[1;33m=\u001b[0m \u001b[0msummarize_resume\u001b[0m\u001b[1;33m(\u001b[0m\u001b[0mtext\u001b[0m\u001b[1;33m,\u001b[0m \u001b[0mclient\u001b[0m\u001b[1;33m)\u001b[0m\u001b[1;33m\u001b[0m\u001b[1;33m\u001b[0m\u001b[0m\n\u001b[0;32m      3\u001b[0m \u001b[0mprint\u001b[0m\u001b[1;33m(\u001b[0m\u001b[0msummary_response\u001b[0m\u001b[1;33m.\u001b[0m\u001b[0mchoices\u001b[0m\u001b[1;33m[\u001b[0m\u001b[1;36m0\u001b[0m\u001b[1;33m]\u001b[0m\u001b[1;33m.\u001b[0m\u001b[0mmessage\u001b[0m\u001b[1;33m.\u001b[0m\u001b[0mcontent\u001b[0m\u001b[1;33m)\u001b[0m\u001b[1;33m\u001b[0m\u001b[1;33m\u001b[0m\u001b[0m\n",
      "\u001b[1;32m~\\AppData\\Local\\Temp\\ipykernel_19592\\1953854831.py\u001b[0m in \u001b[0;36m?\u001b[1;34m()\u001b[0m\n\u001b[0;32m      1\u001b[0m \u001b[1;32mdef\u001b[0m \u001b[0mextract_text_from_pdf\u001b[0m\u001b[1;33m(\u001b[0m\u001b[1;33m)\u001b[0m\u001b[1;33m:\u001b[0m\u001b[1;33m\u001b[0m\u001b[1;33m\u001b[0m\u001b[0m\n\u001b[1;32m----> 2\u001b[1;33m     \u001b[0mdoc\u001b[0m \u001b[1;33m=\u001b[0m \u001b[0mfitz\u001b[0m\u001b[1;33m.\u001b[0m\u001b[0mopen\u001b[0m\u001b[1;33m(\u001b[0m\u001b[1;34m\"Chai Wai Jin Resume.pdf\"\u001b[0m\u001b[1;33m)\u001b[0m\u001b[1;33m\u001b[0m\u001b[1;33m\u001b[0m\u001b[0m\n\u001b[0m\u001b[0;32m      3\u001b[0m     \u001b[0mtext\u001b[0m \u001b[1;33m=\u001b[0m \u001b[1;34m\"\"\u001b[0m\u001b[1;33m\u001b[0m\u001b[1;33m\u001b[0m\u001b[0m\n\u001b[0;32m      4\u001b[0m     \u001b[1;32mfor\u001b[0m \u001b[0mpage\u001b[0m \u001b[1;32min\u001b[0m \u001b[0mdoc\u001b[0m\u001b[1;33m:\u001b[0m\u001b[1;33m\u001b[0m\u001b[1;33m\u001b[0m\u001b[0m\n\u001b[0;32m      5\u001b[0m         \u001b[0mtext\u001b[0m \u001b[1;33m+=\u001b[0m \u001b[0mpage\u001b[0m\u001b[1;33m.\u001b[0m\u001b[0mget_text\u001b[0m\u001b[1;33m(\u001b[0m\u001b[1;33m)\u001b[0m\u001b[1;33m\u001b[0m\u001b[1;33m\u001b[0m\u001b[0m\n",
      "\u001b[1;32mc:\\Users\\User\\Desktop\\nusantara\\company-helper\\venv\\Lib\\site-packages\\pymupdf\\__init__.py\u001b[0m in \u001b[0;36m?\u001b[1;34m(self, filename, stream, filetype, rect, width, height, fontsize)\u001b[0m\n\u001b[0;32m   2876\u001b[0m                     \u001b[0mself\u001b[0m\u001b[1;33m.\u001b[0m\u001b[0mpage_count2\u001b[0m \u001b[1;33m=\u001b[0m \u001b[0mextra\u001b[0m\u001b[1;33m.\u001b[0m\u001b[0mpage_count_pdf\u001b[0m\u001b[1;33m\u001b[0m\u001b[1;33m\u001b[0m\u001b[0m\n\u001b[0;32m   2877\u001b[0m                 \u001b[1;32melse\u001b[0m\u001b[1;33m:\u001b[0m\u001b[1;33m\u001b[0m\u001b[1;33m\u001b[0m\u001b[0m\n\u001b[0;32m   2878\u001b[0m                     \u001b[0mself\u001b[0m\u001b[1;33m.\u001b[0m\u001b[0mpage_count2\u001b[0m \u001b[1;33m=\u001b[0m \u001b[0mextra\u001b[0m\u001b[1;33m.\u001b[0m\u001b[0mpage_count_fz\u001b[0m\u001b[1;33m\u001b[0m\u001b[1;33m\u001b[0m\u001b[0m\n\u001b[0;32m   2879\u001b[0m         \u001b[1;32mfinally\u001b[0m\u001b[1;33m:\u001b[0m\u001b[1;33m\u001b[0m\u001b[1;33m\u001b[0m\u001b[0m\n\u001b[1;32m-> 2880\u001b[1;33m             \u001b[0mJM_mupdf_show_errors\u001b[0m \u001b[1;33m=\u001b[0m \u001b[0mJM_mupdf_show_errors_old\u001b[0m\u001b[1;33m\u001b[0m\u001b[1;33m\u001b[0m\u001b[0m\n\u001b[0m",
      "\u001b[1;31mFileNotFoundError\u001b[0m: no such file: 'Chai Wai Jin Resume.pdf'"
     ]
    }
   ],
   "source": [
    "text = extract_text_from_pdf()\n",
    "summary_response = summarize_resume(text, client)\n",
    "print(summary_response.choices[0].message.content)"
   ]
  },
  {
   "cell_type": "code",
   "execution_count": 22,
   "metadata": {},
   "outputs": [],
   "source": [
    "def generate_job_description(job_title, job_requirement, client):\n",
    "    job_description_response = client.chat.completions.create(\n",
    "        model=\"gpt-3.5-turbo\",\n",
    "        messages=[{\n",
    "            \"role\": \"system\",\n",
    "            \"content\": f\"\"\"\n",
    "            You're a bot that is a HR for a company.\n",
    "            This company is a tech company that specializes in software development for various clients.\n",
    "            The company serves various industries from finance, agriculture, health, and many more.\n",
    "            Some of the solutions that the company provides to the clients includes web development, mobile app development, and data analytics, artificial intelligence and many more.\n",
    "            You would receive a vague job requirement from the tech team of the company.\n",
    "            Based on the vague job title and the job requirement received, generate a detailed job description.\n",
    "            \"\"\"\n",
    "        },\n",
    "        {\n",
    "            \"role\": \"user\",\n",
    "            \"content\": f\"Generate a job description for the job title: Senior Software Enginner, iOS and the job requirement: Expert in iOS development including the use of Swift and/or RxSwift.\"\n",
    "        },\n",
    "        {\n",
    "            \"role\": \"assistant\",\n",
    "            \"content\": f\"\"\"\n",
    "Role Description:\n",
    "As a Senior iOS Engineer in the Safety team, you will be responsible for designing and implementing Safety features in our iOS application. You will work on various aspects of Grab's Safety features which revolves around a wide variety of device hardwares and requires a deep understanding of not only application programming but also system performance.\n",
    "\n",
    "This is a regional role where you'll have the opportunity to collaborate with a diverse cross-functional team of mobile and backend engineers, data scientists, product managers, and designers to deliver code behind apps that impact millions of lives in Southeast Asia.\n",
    "\n",
    "Day to Day Activities:\n",
    "- Take charge of executing and monitoring projects while collaborating with Product, Design, Mobile, and Backend teams to continuously improve and extend new consumer and/or partner-facing products, platforms, and features.\n",
    "- Actively participate in technical and product review meetings, enhancing Grab platform's efficiency through the creation and optimization of reusable iOS software components.\n",
    "- Drive continuous improvement on live apps by reviewing performance on both, the code and experience level, ensuring high-quality app releases.\n",
    "- Foster cross-team collaborations to share knowledge, review each other's code, and assist in building an environment conducive to learning and growing.\n",
    "- Embrace and promote cutting-edge mobile methodologies and technologies, and invest in the mentorship of Junior Engineers for their career development.\n",
    "\n",
    "Requirements:\n",
    "- Expert in iOS programming paradigms including extensive use of Swift and/or RxSwift.\n",
    "- Demonstrate working knowledge of architectural approaches, design, caching, data storage, and security.\n",
    "- Showcase a strong background in UI/UX design, ensuring intuitive functionality and pixel-perfect interfaces.\n",
    "- Possess hands-on experience with unit testing, UI test frameworks, and continuous integration pipelines for mobile apps build systems.\n",
    "- Exhibit strong Computer Science fundamentals, proven 'Your Problem Is My Problem' (YPIMP) teamwork attitude, and a relevant academic background i.e., Degree in Computer Science, Software Engineering, IT, or related fields.\n",
    "\n",
    "Extra:\n",
    "- Experience with iOS application performance tuning and optimisation.\n",
    "- Experience with Machine Learning Model deployment and inference on-device.\n",
    "        \"\"\"\n",
    "        },\n",
    "        {\n",
    "            \"role\": \"user\",\n",
    "            \"content\": f\"Generate a job description for the job title: {job_title}, iOS and the job requirement: {job_requirement}\"\n",
    "        }\n",
    "        ],\n",
    "        max_tokens=400,\n",
    "        temperature=0.8\n",
    "    )\n",
    "\n",
    "    return job_description_response"
   ]
  },
  {
   "cell_type": "code",
   "execution_count": 12,
   "metadata": {},
   "outputs": [
    {
     "name": "stdout",
     "output_type": "stream",
     "text": [
      "Role Description:\n",
      "As a Java Software Engineer focusing on iOS development within our dynamic Engineering team, you will play a pivotal role in designing and building robust Java applications that seamlessly integrate with our iOS platforms. You will be at the forefront of creating innovative solutions that enhance user experience and drive the success of our mobile applications.\n",
      "\n",
      "This position offers an exciting opportunity to collaborate with talented individuals across different departments and work on cutting-edge projects that cater to a diverse range of industries, ensuring our clients receive top-notch software solutions.\n",
      "\n",
      "Day to Day Activities:\n",
      "- Develop Java applications that are tailored to the iOS platform, ensuring seamless integration and optimal performance.\n",
      "- Collaborate with cross-functional teams to design and implement features that enhance user experience and meet client requirements.\n",
      "- Utilize Java Spring framework to build scalable and efficient applications that adhere to best practices.\n",
      "- Work with SQL databases to manage and manipulate data effectively, ensuring data integrity and security.\n",
      "- Participate in code reviews, testing, and debugging to maintain high-quality standards in software development.\n",
      "- Stay updated on industry trends and technologies to continuously improve your skills and contribute innovative ideas to the team.\n",
      "\n",
      "Requirements:\n",
      "- Proficiency in Java programming with a strong understanding of iOS development principles.\n",
      "- Familiarity with Java Spring framework for building enterprise applications.\n",
      "- Experience working with SQL databases and writing complex queries to retrieve and manipulate data.\n",
      "- Strong problem-solving skills and attention to detail in software development.\n",
      "- Excellent communication and teamwork abilities to collaborate effectively with colleagues from diverse backgrounds.\n",
      "- Bachelor's degree in Computer Science, Software Engineering, or related field.\n",
      "\n",
      "Extra:\n",
      "- Experience with Agile development methodologies.\n",
      "- Knowledge of mobile app development best practices for iOS platforms.\n",
      "- Familiarity with cloud technologies and services for deployment and integration.\n",
      "- Certification in Java programming or related technologies would be a plus.\n"
     ]
    }
   ],
   "source": [
    "generated_job_description = generate_job_description(\"Java Software Engineer\", \"Develop Java applications, familiar with Java Spring, have experience with SQL Database would be prioritised\", client)\n",
    "print(generated_job_description.choices[0].message.content)"
   ]
  },
  {
   "cell_type": "code",
   "execution_count": 19,
   "metadata": {},
   "outputs": [],
   "source": [
    "job_description = \"\"\"\n",
    "Role Description:\n",
    "We are seeking talented & motivated engineers to join our team! In this role, you'll delve into identity and access management, \n",
    "gaining practical experience within specific verticals such as Transportation, Food, and more. \n",
    "Your focus will be on analyzing, enhancing and safeguarding identity systems.\n",
    "Day-to-Day Activities:\n",
    "You use technology to solve well defined problems, building individual components or features based on well defined tasks. \n",
    "You understand the requirements of your projects and use that understanding in your designs. \n",
    "You understand your codebase and systems, ensuring reliability through design reviews, monitoring, alerting, and applying OE (Operational Excellence) standards. \n",
    "You take ownership of your code and ensure it's readable, maintainable, and well-tested. \n",
    "You understand and apply the appropriate data structures and algorithms. \n",
    "You give clear, actionable feedback during code reviews and respond well to feedback from others.\n",
    "You respond promptly to issues and keep the working team constantly updated. \n",
    "Your tasks are delivered on time and with high quality, and you're able to explain your solutions to other technical stakeholders through both verbal and written communication.\n",
    "Requirements:\n",
    "- Experience with backend in Golang (preferred), Java, C# or any similar programming languages\n",
    "- Strong computer science fundamentals including data structures and algorithms\n",
    "- Strong communication skill both written and verbal\n",
    "Extra:\n",
    "- Experience in the IAM domain\n",
    "- Experience with distributed systems in a cloud based environment\n",
    "- Hunger to learn fast with a steep learning curve\"\"\""
   ]
  },
  {
   "cell_type": "code",
   "execution_count": 37,
   "metadata": {},
   "outputs": [],
   "source": [
    "def extract_skills(prompt, client):\n",
    "    response = client.chat.completions.create(\n",
    "        model=\"gpt-3.5-turbo\",\n",
    "        messages=[{\n",
    "            \"role\": \"system\",\n",
    "            \"content\": \"\"\"Based on the job description given, you will extract the soft skills and programming skills required \n",
    "            for the job position in an array of strings using the following steps:\n",
    "            1. Extract the soft skills required for the job in json array of strings\n",
    "            2. Extract the programming skills required for the job in json array of strings\"\"\"\n",
    "        }, {\n",
    "            \"role\": \"user\",\n",
    "            \"content\": f\"{job_description}\"\n",
    "        },\n",
    "        {\n",
    "            \"role\": \"assistant\",\n",
    "            \"content\": \"\"\"[\"Critical Thinking\", \"Communication\", \"Problem Solving\"]\\n[\"Golang\", \"Java\", \"C#\"]\"\"\"\n",
    "        }, {\n",
    "            \"role\": \"user\",\n",
    "            \"content\": f\"{prompt}\"\n",
    "        }],\n",
    "        max_tokens=100,\n",
    "        temperature=0.8\n",
    "    )\n",
    "\n",
    "    return response"
   ]
  },
  {
   "cell_type": "code",
   "execution_count": 47,
   "metadata": {},
   "outputs": [],
   "source": [
    "def summarize_resume(text, client, softskill_criteria, promgramming_language_criteria):\n",
    "    summary_response = client.chat.completions.create(\n",
    "        model=\"gpt-4o\",\n",
    "        messages=[{\n",
    "            \"role\": \"system\",\n",
    "            \"content\": f\"\"\"You're a bot that is a HR for a tech company that is recruiting candidates for a Software Engineering position.\n",
    "            You will look at the candidate's resume and give a summary of the candidate in 100 words.\n",
    "            \n",
    "            Also list out any softskill criteria that matches from this list: {softskill_criteria}\n",
    "            \n",
    "            Also list out any programming languages that matches from this list: {promgramming_language_criteria}\n",
    "            \"\"\"\n",
    "        }, {\n",
    "            \"role\": \"user\",\n",
    "            \"content\": f\"{text}\"\n",
    "        }],\n",
    "        max_tokens=500,\n",
    "        temperature=0.8\n",
    "    )\n",
    "\n",
    "    return summary_response"
   ]
  },
  {
   "cell_type": "markdown",
   "metadata": {},
   "source": [
    "### Putting everything together"
   ]
  },
  {
   "cell_type": "markdown",
   "metadata": {},
   "source": [
    "Generate job description from tech lead"
   ]
  },
  {
   "cell_type": "code",
   "execution_count": 33,
   "metadata": {},
   "outputs": [],
   "source": [
    "job_description_response = generate_job_description(\"Java Software Engineer\", \"Develop Java applications, familiar with Java Spring, have experience with SQL Database would be prioritised\", client)"
   ]
  },
  {
   "cell_type": "code",
   "execution_count": 34,
   "metadata": {},
   "outputs": [
    {
     "name": "stdout",
     "output_type": "stream",
     "text": [
      "Role Description:\n",
      "As a Java Software Engineer in the iOS Development team, you will be responsible for developing Java applications that integrate seamlessly with our iOS platform. Your role will involve collaborating with a cross-functional team to deliver high-quality software solutions that enhance the user experience on iOS devices.\n",
      "\n",
      "You will have the opportunity to work on diverse projects ranging from developing new features to optimizing existing functionalities. Your expertise in Java development, particularly with Java Spring framework, will be instrumental in driving the success of our iOS applications.\n",
      "\n",
      "Day to Day Activities:\n",
      "- Develop and maintain Java applications that interact with iOS platforms, ensuring compatibility and performance.\n",
      "- Collaborate with iOS developers to integrate Java components into iOS applications and troubleshoot any compatibility issues.\n",
      "- Utilize Java Spring framework to build robust and scalable software solutions that meet the requirements of our iOS platform.\n",
      "- Work closely with the database team to design and implement SQL database structures that support the Java applications.\n",
      "- Conduct code reviews, testing, and debugging to ensure the quality and reliability of the software deliverables.\n",
      "- Stay updated on the latest trends and technologies in Java development to continuously improve the efficiency and effectiveness of our iOS applications.\n",
      "\n",
      "Requirements:\n",
      "- Proficient in Java programming with a strong understanding of object-oriented principles and design patterns.\n",
      "- Experience working with Java Spring framework to develop enterprise-level applications.\n",
      "- Familiarity with SQL databases and experience in designing and optimizing database structures.\n",
      "- Ability to collaborate effectively with iOS developers and other team members to achieve project goals.\n",
      "- Strong problem-solving skills and attention to detail to deliver high-quality software solutions.\n",
      "- Excellent communication skills and the ability to work in a fast-paced, collaborative environment.\n",
      "\n",
      "Extra:\n",
      "- Experience with iOS development or a willingness to learn iOS development concepts.\n",
      "- Knowledge of mobile app development best practices and design principles.\n",
      "- Previous experience in integrating Java applications with iOS platforms.\n",
      "- Certification in Java programming or related technologies.\n"
     ]
    }
   ],
   "source": [
    "print(job_description_response.choices[0].message.content)"
   ]
  },
  {
   "cell_type": "markdown",
   "metadata": {},
   "source": [
    "Extract skills from the job description"
   ]
  },
  {
   "cell_type": "code",
   "execution_count": 38,
   "metadata": {},
   "outputs": [],
   "source": [
    "job_description = job_description_response.choices[0].message.content\n",
    "skills_response = extract_skills(job_description, client)"
   ]
  },
  {
   "cell_type": "code",
   "execution_count": 39,
   "metadata": {},
   "outputs": [
    {
     "name": "stdout",
     "output_type": "stream",
     "text": [
      "[\"Excellent communication skills\", \"Strong problem-solving skills\", \"Ability to collaborate effectively\"]\n",
      "[\"Java programming\", \"Java Spring framework\", \"SQL databases\"]\n"
     ]
    }
   ],
   "source": [
    "print(skills_response.choices[0].message.content)"
   ]
  },
  {
   "cell_type": "markdown",
   "metadata": {},
   "source": [
    "Summarise the resume of the candidate and match their skillsets"
   ]
  },
  {
   "cell_type": "code",
   "execution_count": 50,
   "metadata": {},
   "outputs": [],
   "source": [
    "skills = skills_response.choices[0].message.content.split(\"\\n\")\n",
    "soft_skills = skills[0]\n",
    "technical_skills = skills[1]\n",
    "\n",
    "text = extract_text_from_pdf()\n",
    "resume_summary_response = summarize_resume(text, client, soft_skills, technical_skills)"
   ]
  },
  {
   "cell_type": "code",
   "execution_count": 51,
   "metadata": {},
   "outputs": [
    {
     "name": "stdout",
     "output_type": "stream",
     "text": [
      "Chai Wai Jin is a highly accomplished final-year computer science student at Monash University, boasting a perfect CGPA of 4.00. His academic coursework includes Advanced Data Structures & Algorithms, Software Engineering Architecture & Design, Java OOP, Data Science, Databases, and more. Wai Jin has practical experience as a Data Science Intern at PETRONAS Digital, where he collaborated with Boston Consulting Group to develop machine learning training content and contributed to a high-value project predicting pipe leakages and corrosion. Additionally, Wai Jin serves as a class assistant at Monash University, reinforcing students' understanding of algorithms.\n",
      "\n",
      "He has also led and contributed to several technical and academic projects, including a React.js-based website for a tourist destination and console-based games using Java and Python. His technical skill set includes HTML, CSS, React.js, Python, Java, C, JavaScript, TypeScript, SQL, R, NumPy, Pandas, Apache Kafka, and Apache Spark.\n",
      "\n",
      "Among his numerous accolades, Wai Jin has received the Monash High Achiever Award and the Monash Dean’s Achievement Award. He also holds certifications from Google and Stanford University in Git and Machine Learning, respectively.\n",
      "\n",
      "### Soft Skills:\n",
      "- Excellent communication skills\n",
      "- Strong problem-solving skills\n",
      "- Ability to collaborate effectively\n",
      "\n",
      "### Programming Languages:\n",
      "- Java programming\n",
      "- SQL databases\n"
     ]
    }
   ],
   "source": [
    "print(resume_summary_response.choices[0].message.content)"
   ]
  },
  {
   "cell_type": "code",
   "execution_count": null,
   "metadata": {},
   "outputs": [],
   "source": []
  }
 ],
 "metadata": {
  "kernelspec": {
   "display_name": "venv",
   "language": "python",
   "name": "python3"
  },
  "language_info": {
   "codemirror_mode": {
    "name": "ipython",
    "version": 3
   },
   "file_extension": ".py",
   "mimetype": "text/x-python",
   "name": "python",
   "nbconvert_exporter": "python",
   "pygments_lexer": "ipython3",
   "version": "3.11.3"
  }
 },
 "nbformat": 4,
 "nbformat_minor": 2
}
