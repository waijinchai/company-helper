{
 "cells": [
  {
   "cell_type": "code",
   "execution_count": 1,
   "metadata": {},
   "outputs": [],
   "source": [
    "from openai import OpenAI\n",
    "from dotenv import load_dotenv\n",
    "import os\n",
    "import fitz"
   ]
  },
  {
   "cell_type": "code",
   "execution_count": 2,
   "metadata": {},
   "outputs": [
    {
     "data": {
      "text/plain": [
       "True"
      ]
     },
     "execution_count": 2,
     "metadata": {},
     "output_type": "execute_result"
    }
   ],
   "source": [
    "load_dotenv()"
   ]
  },
  {
   "cell_type": "code",
   "execution_count": 3,
   "metadata": {},
   "outputs": [],
   "source": [
    "client = OpenAI(api_key=os.getenv(\"OPENAI_SECRET\"))"
   ]
  },
  {
   "cell_type": "code",
   "execution_count": 4,
   "metadata": {},
   "outputs": [],
   "source": [
    "prompt=\"what is 2 + 2?\""
   ]
  },
  {
   "cell_type": "code",
   "execution_count": 5,
   "metadata": {},
   "outputs": [
    {
     "name": "stdout",
     "output_type": "stream",
     "text": [
      "2 + 2 equals 4. \n",
      "\n",
      "This is a basic addition problem where you are combining two groups of 2 items each. When you add them together, you get a total of 4 items. \n",
      "\n",
      "In mathematical terms, this can be represented as:\n",
      "2 + 2 = 4\n",
      "\n",
      "I hope this explanation helps! Let me know if you have any other math questions.\n"
     ]
    }
   ],
   "source": [
    "response = client.chat.completions.create(\n",
    "    model=\"gpt-3.5-turbo\",\n",
    "    messages=[{\n",
    "        \"role\": \"system\",\n",
    "        \"content\": \"\"\"You're a mathematician that solves maths questions and provides clear explanation\"\"\"\n",
    "    }, {\n",
    "        \"role\": \"user\",\n",
    "        \"content\": f\"{prompt}\"\n",
    "    }],\n",
    "    max_tokens=100,\n",
    "    temperature=0.8\n",
    ")\n",
    "\n",
    "print(response.choices[0].message.content)"
   ]
  },
  {
   "cell_type": "code",
   "execution_count": 6,
   "metadata": {},
   "outputs": [],
   "source": [
    "def extract_text_from_pdf():\n",
    "    doc = fitz.open(\"Chai Wai Jin Resume.pdf\")\n",
    "    text = \"\"\n",
    "    for page in doc:\n",
    "        text += page.get_text()\n",
    "    \n",
    "    return text"
   ]
  },
  {
   "cell_type": "code",
   "execution_count": null,
   "metadata": {},
   "outputs": [],
   "source": [
    "def summarize_resume(text, client):\n",
    "    summary_response = client.chat.completions.create(\n",
    "        model=\"gpt-3.5-turbo\",\n",
    "        messages=[{\n",
    "            \"role\": \"system\",\n",
    "            \"content\": \"\"\"You're a bot that is a HR for a tech company that is recruiting candidates for a Software Engineering position.\n",
    "            You will look at the candidate's resume and give a summary of the candidate in 100 words.\"\"\"\n",
    "        }, {\n",
    "            \"role\": \"user\",\n",
    "            \"content\": f\"{text}\"\n",
    "        }],\n",
    "        max_tokens=400,\n",
    "        temperature=0.8\n",
    "    )\n",
    "\n",
    "    return summary_response"
   ]
  },
  {
   "cell_type": "code",
   "execution_count": null,
   "metadata": {},
   "outputs": [
    {
     "name": "stdout",
     "output_type": "stream",
     "text": [
      "Wai Jin Chai is a final year Computer Science student with a perfect CGPA of 4.00/4.00 from Monash University. He has a strong academic background in various technical areas including Data Science, Java, Mobile Application Development, and more. Wai Jin has practical experience as a Data Science Intern at PETRONAS Digital, where he worked on machine learning projects. He has also been involved in technical projects like Frontend Web Development and a Certificate Generator using Python. With\n"
     ]
    }
   ],
   "source": [
    "text = extract_text_from_pdf()\n",
    "summary_response = summarize_resume(text, client)\n",
    "print(summary_response.choices[0].message.content)"
   ]
  },
  {
   "cell_type": "code",
   "execution_count": 11,
   "metadata": {},
   "outputs": [],
   "source": [
    "def generate_job_description(job_title, job_requirement, client):\n",
    "    job_description_response = client.chat.completions.create(\n",
    "        model=\"gpt-3.5-turbo\",\n",
    "        messages=[{\n",
    "            \"role\": \"system\",\n",
    "            \"content\": f\"\"\"\n",
    "            You're a bot that is a HR for a company.\n",
    "            This company is a tech company that specializes in software development for various clients.\n",
    "            The company serves various industries from finance, agriculture, health, and many more.\n",
    "            Some of the solutions that the company provides to the clients includes web development, mobile app development, and data analytics, artificial intelligence and many more.\n",
    "            You would receive a vague job requirement from the tech team of the company.\n",
    "            Based on the vague job title and the job requirement received, generate a detailed job description.\n",
    "            \"\"\"\n",
    "        },\n",
    "        {\n",
    "            \"role\": \"user\",\n",
    "            \"content\": f\"Generate a job description for the job title: Senior Software Enginner, iOS and the job requirement: Expert in iOS development including the use of Swift and/or RxSwift.\"\n",
    "        },\n",
    "        {\n",
    "            \"role\": \"assistant\",\n",
    "            \"content\": f\"\"\"\n",
    "Role Description:\n",
    "As a Senior iOS Engineer in the Safety team, you will be responsible for designing and implementing Safety features in our iOS application. You will work on various aspects of Grab's Safety features which revolves around a wide variety of device hardwares and requires a deep understanding of not only application programming but also system performance.\n",
    "\n",
    "This is a regional role where you'll have the opportunity to collaborate with a diverse cross-functional team of mobile and backend engineers, data scientists, product managers, and designers to deliver code behind apps that impact millions of lives in Southeast Asia.\n",
    "\n",
    "Day to Day Activities:\n",
    "- Take charge of executing and monitoring projects while collaborating with Product, Design, Mobile, and Backend teams to continuously improve and extend new consumer and/or partner-facing products, platforms, and features.\n",
    "- Actively participate in technical and product review meetings, enhancing Grab platform's efficiency through the creation and optimization of reusable iOS software components.\n",
    "- Drive continuous improvement on live apps by reviewing performance on both, the code and experience level, ensuring high-quality app releases.\n",
    "- Foster cross-team collaborations to share knowledge, review each other's code, and assist in building an environment conducive to learning and growing.\n",
    "- Embrace and promote cutting-edge mobile methodologies and technologies, and invest in the mentorship of Junior Engineers for their career development.\n",
    "\n",
    "Requirements:\n",
    "- Expert in iOS programming paradigms including extensive use of Swift and/or RxSwift.\n",
    "- Demonstrate working knowledge of architectural approaches, design, caching, data storage, and security.\n",
    "- Showcase a strong background in UI/UX design, ensuring intuitive functionality and pixel-perfect interfaces.\n",
    "- Possess hands-on experience with unit testing, UI test frameworks, and continuous integration pipelines for mobile apps build systems.\n",
    "- Exhibit strong Computer Science fundamentals, proven 'Your Problem Is My Problem' (YPIMP) teamwork attitude, and a relevant academic background i.e., Degree in Computer Science, Software Engineering, IT, or related fields.\n",
    "\n",
    "Extra:\n",
    "- Experience with iOS application performance tuning and optimisation.\n",
    "- Experience with Machine Learning Model deployment and inference on-device.\n",
    "        \"\"\"\n",
    "        },\n",
    "        {\n",
    "            \"role\": \"user\",\n",
    "            \"content\": f\"Generate a job description for the job title: {job_title}, iOS and the job requirement: {job_requirement}\"\n",
    "        }\n",
    "        ],\n",
    "        max_tokens=400,\n",
    "        temperature=0.8\n",
    "    )\n",
    "\n",
    "    return job_description_response"
   ]
  },
  {
   "cell_type": "code",
   "execution_count": 12,
   "metadata": {},
   "outputs": [
    {
     "name": "stdout",
     "output_type": "stream",
     "text": [
      "Role Description:\n",
      "As a Java Software Engineer focusing on iOS development within our dynamic Engineering team, you will play a pivotal role in designing and building robust Java applications that seamlessly integrate with our iOS platforms. You will be at the forefront of creating innovative solutions that enhance user experience and drive the success of our mobile applications.\n",
      "\n",
      "This position offers an exciting opportunity to collaborate with talented individuals across different departments and work on cutting-edge projects that cater to a diverse range of industries, ensuring our clients receive top-notch software solutions.\n",
      "\n",
      "Day to Day Activities:\n",
      "- Develop Java applications that are tailored to the iOS platform, ensuring seamless integration and optimal performance.\n",
      "- Collaborate with cross-functional teams to design and implement features that enhance user experience and meet client requirements.\n",
      "- Utilize Java Spring framework to build scalable and efficient applications that adhere to best practices.\n",
      "- Work with SQL databases to manage and manipulate data effectively, ensuring data integrity and security.\n",
      "- Participate in code reviews, testing, and debugging to maintain high-quality standards in software development.\n",
      "- Stay updated on industry trends and technologies to continuously improve your skills and contribute innovative ideas to the team.\n",
      "\n",
      "Requirements:\n",
      "- Proficiency in Java programming with a strong understanding of iOS development principles.\n",
      "- Familiarity with Java Spring framework for building enterprise applications.\n",
      "- Experience working with SQL databases and writing complex queries to retrieve and manipulate data.\n",
      "- Strong problem-solving skills and attention to detail in software development.\n",
      "- Excellent communication and teamwork abilities to collaborate effectively with colleagues from diverse backgrounds.\n",
      "- Bachelor's degree in Computer Science, Software Engineering, or related field.\n",
      "\n",
      "Extra:\n",
      "- Experience with Agile development methodologies.\n",
      "- Knowledge of mobile app development best practices for iOS platforms.\n",
      "- Familiarity with cloud technologies and services for deployment and integration.\n",
      "- Certification in Java programming or related technologies would be a plus.\n"
     ]
    }
   ],
   "source": [
    "generated_job_description = generate_job_description(\"Java Software Engineer\", \"Develop Java applications, familiar with Java Spring, have experience with SQL Database would be prioritised\", client)\n",
    "print(generated_job_description.choices[0].message.content)"
   ]
  }
 ],
 "metadata": {
  "kernelspec": {
   "display_name": "venv",
   "language": "python",
   "name": "python3"
  },
  "language_info": {
   "codemirror_mode": {
    "name": "ipython",
    "version": 3
   },
   "file_extension": ".py",
   "mimetype": "text/x-python",
   "name": "python",
   "nbconvert_exporter": "python",
   "pygments_lexer": "ipython3",
   "version": "3.10.11"
  }
 },
 "nbformat": 4,
 "nbformat_minor": 2
}
