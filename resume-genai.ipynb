{
 "cells": [
  {
   "cell_type": "code",
   "execution_count": 9,
   "metadata": {},
   "outputs": [],
   "source": [
    "from openai import OpenAI\n",
    "from dotenv import load_dotenv\n",
    "import os\n",
    "import fitz"
   ]
  },
  {
   "cell_type": "code",
   "execution_count": 4,
   "metadata": {},
   "outputs": [
    {
     "data": {
      "text/plain": [
       "True"
      ]
     },
     "execution_count": 4,
     "metadata": {},
     "output_type": "execute_result"
    }
   ],
   "source": [
    "load_dotenv()"
   ]
  },
  {
   "cell_type": "code",
   "execution_count": 5,
   "metadata": {},
   "outputs": [],
   "source": [
    "client = OpenAI(api_key=os.getenv(\"OPENAI_SECRET\"))"
   ]
  },
  {
   "cell_type": "code",
   "execution_count": 6,
   "metadata": {},
   "outputs": [],
   "source": [
    "prompt=\"what is 2 + 2?\""
   ]
  },
  {
   "cell_type": "code",
   "execution_count": 7,
   "metadata": {},
   "outputs": [
    {
     "name": "stdout",
     "output_type": "stream",
     "text": [
      "2 + 2 is equal to 4. \n",
      "\n",
      "This is a basic addition problem where we are adding the two numbers together. The addition operation involves combining two or more numbers to find their total sum. In this case, adding 2 and 2 together gives us 4. \n",
      "\n",
      "So, the answer to 2 + 2 is 4.\n"
     ]
    }
   ],
   "source": [
    "response = client.chat.completions.create(\n",
    "    model=\"gpt-3.5-turbo\",\n",
    "    messages=[{\n",
    "        \"role\": \"system\",\n",
    "        \"content\": \"\"\"You're a mathematician that solves maths questions and provides clear explanation\"\"\"\n",
    "    }, {\n",
    "        \"role\": \"user\",\n",
    "        \"content\": f\"{prompt}\"\n",
    "    }],\n",
    "    max_tokens=100,\n",
    "    temperature=0.8\n",
    ")\n",
    "\n",
    "print(response.choices[0].message.content)"
   ]
  },
  {
   "cell_type": "code",
   "execution_count": 11,
   "metadata": {},
   "outputs": [],
   "source": [
    "def extract_text_from_pdf():\n",
    "    doc = fitz.open(\"Chai Wai Jin Resume.pdf\")\n",
    "    text = \"\"\n",
    "    for page in doc:\n",
    "        text += page.get_text()\n",
    "    \n",
    "    return text"
   ]
  },
  {
   "cell_type": "code",
   "execution_count": 12,
   "metadata": {},
   "outputs": [],
   "source": [
    "def summarize_resume(text, client):\n",
    "    summary_response = client.chat.completions.create(\n",
    "        model=\"gpt-3.5-turbo\",\n",
    "        messages=[{\n",
    "            \"role\": \"system\",\n",
    "            \"content\": \"\"\"You're a bot that is a HR for a tech company that is recruiting candidates for a Software Engineering position.\n",
    "            You will look at the candidate's resume and give a summary of the candidate in 100 words.\"\"\"\n",
    "        }, {\n",
    "            \"role\": \"user\",\n",
    "            \"content\": f\"{text}\"\n",
    "        }],\n",
    "        max_tokens=400,\n",
    "        temperature=0.8\n",
    "    )\n",
    "\n",
    "    return summary_response"
   ]
  },
  {
   "cell_type": "code",
   "execution_count": 13,
   "metadata": {},
   "outputs": [
    {
     "name": "stdout",
     "output_type": "stream",
     "text": [
      "Wai Jin Chai is a final year Computer Science student with a perfect CGPA of 4.00/4.00 from Monash University. He has a strong academic background in various technical areas including Data Science, Java, Mobile Application Development, and more. Wai Jin has practical experience as a Data Science Intern at PETRONAS Digital, where he worked on machine learning projects. He has also been involved in technical projects like Frontend Web Development and a Certificate Generator using Python. With\n"
     ]
    }
   ],
   "source": [
    "text = extract_text_from_pdf()\n",
    "summary_response = summarize_resume(text, client)\n",
    "print(summary_response.choices[0].message.content)"
   ]
  },
  {
   "cell_type": "code",
   "execution_count": null,
   "metadata": {},
   "outputs": [],
   "source": []
  }
 ],
 "metadata": {
  "kernelspec": {
   "display_name": "venv",
   "language": "python",
   "name": "python3"
  },
  "language_info": {
   "codemirror_mode": {
    "name": "ipython",
    "version": 3
   },
   "file_extension": ".py",
   "mimetype": "text/x-python",
   "name": "python",
   "nbconvert_exporter": "python",
   "pygments_lexer": "ipython3",
   "version": "3.11.3"
  }
 },
 "nbformat": 4,
 "nbformat_minor": 2
}
